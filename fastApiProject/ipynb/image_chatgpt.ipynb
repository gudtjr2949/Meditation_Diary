{
 "nbformat": 4,
 "nbformat_minor": 0,
 "metadata": {
  "colab": {
   "provenance": [],
   "toc_visible": true
  },
  "kernelspec": {
   "name": "python3",
   "display_name": "Python 3"
  },
  "language_info": {
   "name": "python"
  }
 },
 "cells": [
  {
   "cell_type": "code",
   "source": [
    "# !pip install clarifai\n",
    "# !pip install openai\n",
    "from clarifai_grpc.channel.clarifai_channel import ClarifaiChannel\n",
    "from clarifai_grpc.grpc.api import resources_pb2, service_pb2, service_pb2_grpc\n",
    "from clarifai_grpc.grpc.api.status import status_code_pb2\n",
    "\n",
    "import openai\n",
    "\n",
    "import dotenv\n",
    "import os\n",
    "\n",
    "dotenv.load_dotenv()\n",
    "\n",
    "OPENAI_YOUR_KEY = os.getenv(\"CHATGPT_API_KEY\")\n",
    "openai.api_key = OPENAI_YOUR_KEY\n",
    "\n",
    "PAT = os.getenv(\"CLARIFAI_API_KEY\")\n",
    "USER_ID = 'clarifai'\n",
    "APP_ID = 'main'\n",
    "MODEL_ID = 'general-image-recognition'\n",
    "MODEL_VERSION_ID = 'aa7f35c01e0642fda5cf400f543e7c40'\n",
    "IMAGE_URL = \"{{ imageUrl }}\""
   ],
   "metadata": {
    "id": "G7Jafw3cRqIK"
   },
   "execution_count": null,
   "outputs": []
  },
  {
   "cell_type": "code",
   "source": [
    "message = \"해당 단어를 결합해 감성적인 문장을 만들어줘. 명상할 때 읽어줄 문장이고 해당 단어는 그날 명상하는 사람이 찍은 사진에 나온 단어야. 그 사람의 입장을 생각해서 만들어줘. 모든 단어를 활용할 필요는 없어. 이런 느낌을 느낄 수 있지 않았을까 하는 공감대를 형성하는 방향으로 문장을 작성해줘. 단어 뒤에 나온 숫자는 사진에서 자동으로 인식한 단어의 인식률이야. 그리고 영어로 답변해줘\"\n",
    "\n",
    "channel = ClarifaiChannel.get_grpc_channel()\n",
    "stub = service_pb2_grpc.V2Stub(channel)\n",
    "\n",
    "metadata = (('authorization', 'Key ' + PAT),)\n",
    "\n",
    "userDataObject = resources_pb2.UserAppIDSet(user_id=USER_ID, app_id=APP_ID)\n",
    "\n",
    "post_model_outputs_response = stub.PostModelOutputs(\n",
    "    service_pb2.PostModelOutputsRequest(\n",
    "        user_app_id=userDataObject,\n",
    "        model_id=MODEL_ID,\n",
    "        version_id=MODEL_VERSION_ID, \n",
    "        inputs=[\n",
    "            resources_pb2.Input(\n",
    "                data=resources_pb2.Data(\n",
    "                    image=resources_pb2.Image(\n",
    "                        url=IMAGE_URL\n",
    "                    )\n",
    "                )\n",
    "            )\n",
    "        ]\n",
    "    ),\n",
    "    metadata=metadata\n",
    ")\n",
    "\n",
    "if post_model_outputs_response.status.code != status_code_pb2.SUCCESS:\n",
    "    print(post_model_outputs_response.status)\n",
    "    raise Exception(\"Post model outputs failed, status: \" + post_model_outputs_response.status.description)\n",
    "\n",
    "output = post_model_outputs_response.outputs[0]\n",
    "\n",
    "print(\"Predicted concepts:\")\n",
    "for concept in output.data.concepts:\n",
    "  print(\"%s %.2f\" % (concept.name, concept.value))\n",
    "  message += concept.name + \" \" + str(concept.value) + \"\\n\""
   ],
   "metadata": {
    "id": "_TF8Ypk_6A4c"
   },
   "execution_count": null,
   "outputs": []
  },
  {
   "cell_type": "code",
   "source": [
    "# # 사용 모델을 설정합니다. chat GPT는 gpt-3.5-turbo를 사용합니다.\n",
    "MODEL = \"gpt-3.5-turbo\"\n",
    "USER_INPUT_MSG = message\n",
    "message2 = \"\"\n",
    "\n",
    "response = openai.ChatCompletion.create(\n",
    "    model=MODEL,\n",
    "    messages=[\n",
    "        {\"role\": \"system\", \"content\": \"You are a helpful assistant.\"},\n",
    "        {\"role\": \"user\", \"content\": USER_INPUT_MSG},\n",
    "        # {\"role\": \"assistant\", \"content\": \"Who's there?\"},\n",
    "    ],\n",
    "    temperature=0.5,\n",
    "    max_tokens=600  # 최대 토큰 수를 설정하여 답변의 길이를 제어합니다.\n",
    ")\n",
    "\n",
    "message2 += response['choices'][0]['message']['content']\n",
    "\n",
    "# response['choices'][0]['message']['content']"
   ],
   "metadata": {
    "id": "flo9cBzVbaEU"
   },
   "execution_count": null,
   "outputs": []
  },
  {
   "cell_type": "code",
   "source": [
    "message2 += \" 이걸 한국말로 번역해줘.\""
   ],
   "metadata": {
    "id": "5fMvh1dIxZEV"
   },
   "execution_count": null,
   "outputs": []
  },
  {
   "cell_type": "code",
   "source": [
    "USER_INPUT_MSG2 = message2\n",
    "MODEL2 = \"gpt-3.5-turbo-0613\"\n",
    "\n",
    "response2 = openai.ChatCompletion.create(\n",
    "    model=MODEL2,\n",
    "    messages=[\n",
    "        {\"role\": \"system\", \"content\": \"You are a kind assistant.\"},\n",
    "        {\"role\": \"user\", \"content\": USER_INPUT_MSG2},\n",
    "        {\"role\": \"assistant\", \"content\": \"You must answer continuously.\"},\n",
    "    ],\n",
    "    temperature=0.6,\n",
    "    max_tokens=600  # 최대 토큰 수를 설정하여 답변의 길이를 제어합니다.\n",
    ")\n",
    "\n",
    "response2['choices'][0]['message']['content']"
   ],
   "metadata": {
    "id": "jqq9Iz6u1AXV"
   },
   "execution_count": null,
   "outputs": []
  }
 ]
}
